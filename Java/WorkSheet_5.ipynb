{
 "cells": [
  {
   "cell_type": "markdown",
   "metadata": {},
   "source": [
    "# Java Worksheet 5 – Exception Handling and File I/O"
   ]
  },
  {
   "cell_type": "code",
   "execution_count": null,
   "metadata": {},
   "outputs": [],
   "source": [
    "// EXCEPTION HANDLING\n",
    "try {\n",
    "    int a = 10 / 0;\n",
    "} catch (ArithmeticException e) {\n",
    "    System.out.println(\"Error: \" + e);\n",
    "} finally {\n",
    "    System.out.println(\"Finally block executed.\");\n",
    "}"
   ]
  },
  {
   "cell_type": "code",
   "execution_count": null,
   "metadata": {},
   "outputs": [],
   "source": [
    "// FILE I/O EXAMPLE\n",
    "import java.io.*;\n",
    "\n",
    "try {\n",
    "    FileWriter writer = new FileWriter(\"output.txt\");\n",
    "    writer.write(\"This is a file output example.\");\n",
    "    writer.close();\n",
    "    System.out.println(\"File written successfully.\");\n",
    "} catch (IOException e) {\n",
    "    e.printStackTrace();\n",
    "}"
   ]
  }
 ]
}
