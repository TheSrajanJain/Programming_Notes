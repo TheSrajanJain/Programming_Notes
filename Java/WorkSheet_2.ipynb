{
 "cells": [
  {
   "cell_type": "markdown",
   "source": [
    "# 📘 Java Worksheet 2: Object-Oriented Programming (OOP)"
   ]
  },
  {
   "cell_type": "markdown",
   "source": [
    "## 🧠 Section A: MCQs\n",
    "1. What does OOP stand for?\n",
    "   - a) Ordinary Object Principle\n",
    "   - b) Object Oriented Programming\n",
    "   - c) Operational Oriented Program\n",
    "   - d) None of the above\n",
    "2. Which concept binds data and methods together?\n",
    "   - a) Inheritance\n",
    "   - b) Encapsulation\n",
    "   - c) Polymorphism\n",
    "   - d) Abstraction"
   ]
  },
  {
   "cell_type": "markdown",
   "source": [
    "## ✍️ Section B: Short Answer\n",
    "1. What is a constructor?\n",
    "2. Explain the use of the `this` keyword.\n",
    "3. How is method overloading different from overriding?"
   ]
  },
  {
   "cell_type": "code",
   "source": [
    "// Constructor example\n",
    "class Student {\n",
    "    String name;\n",
    "\n",
    "    Student(String name) {\n",
    "        this.name = name;\n",
    "    }\n",
    "\n",
    "    void display() {\n",
    "        System.out.println(\"Name: \" + name);\n",
    "    }\n",
    "}\n",
    "\n",
    "public class Test {\n",
    "    public static void main(String[] args) {\n",
    "        Student s = new Student(\"Ravi\");\n",
    "        s.display();\n",
    "    }\n",
    "}"
   ]
  },
  {
   "cell_type": "markdown",
   "source": [
    "## ✅ Answers\n",
    "1 → b) Object Oriented Programming  \n",
    "2 → b) Encapsulation"
   ]
  }
 ],
 "metadata": {
  "kernelspec": {
   "display_name": "Java",
   "language": "java",
   "name": "java"
  },
  "language_info": {
   "name": "java"
  }
 },
 "nbformat": 4,
 "nbformat_minor": 5
}
