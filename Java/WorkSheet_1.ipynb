{
 "cells": [
  {
   "cell_type": "markdown",
   "metadata": {},
   "source": [
    "# 📘 Java Programming Worksheet\n",
    "\n",
    "This worksheet covers beginner to intermediate-level Java concepts including MCQs, short answers, code tracing, and programming problems."
   ]
  },
  {
   "cell_type": "markdown",
   "metadata": {},
   "source": [
    "## 🧠 Section A: Multiple Choice Questions (MCQs)\n",
    "\n",
    "1. Which of the following is not a Java keyword?  \n",
    "   a) `static`  \n",
    "   b) `Boolean`  \n",
    "   c) `void`  \n",
    "   d) `new`\n",
    "\n",
    "2. Which method is the entry point of a Java program?  \n",
    "   a) `start()`  \n",
    "   b) `main()`  \n",
    "   c) `run()`  \n",
    "   d) `execute()`\n",
    "\n",
    "3. What is the default value of an uninitialized boolean variable?  \n",
    "   a) `true`  \n",
    "   b) `1`  \n",
    "   c) `false`  \n",
    "   d) `null`\n",
    "\n",
    "4. Which of the following is used to handle exceptions?  \n",
    "   a) `try-catch`  \n",
    "   b) `throw-catch`  \n",
    "   c) `error-catch`  \n",
    "   d) `try-error`\n",
    "\n",
    "5. Which of these is not an access modifier?  \n",
    "   a) `public`  \n",
    "   b) `protected`  \n",
    "   c) `friendly`  \n",
    "   d) `private`"
   ]
  },
  {
   "cell_type": "markdown",
   "metadata": {},
   "source": [
    "## ✍️ Section B: Short Answer Questions\n",
    "\n",
    "1. What is the difference between `==` and `.equals()` in Java?\n",
    "2. Explain the concept of inheritance with an example.\n",
    "3. What is the purpose of the `final` keyword in Java?\n",
    "4. What is the use of the `super` keyword?\n",
    "5. Differentiate between `ArrayList` and `LinkedList`."
   ]
  },
  {
   "cell_type": "markdown",
   "metadata": {},
   "source": [
    "## 🔍 Section C: Code Output / Tracing"
   ]
  },
  {
   "cell_type": "code",
   "metadata": {},
   "execution_count": null,
   "outputs": [],
   "source": [
    "// Q1\n",
    "public class Test {\n",
    "    public static void main(String[] args) {\n",
    "        int x = 10;\n",
    "        int y = 20;\n",
    "        System.out.println(x + y + \" is the result\");\n",
    "    }\n",
    "}"
   ]
  },
  {
   "cell_type": "code",
   "metadata": {},
   "execution_count": null,
   "outputs": [],
   "source": [
    "// Q2\n",
    "class A {\n",
    "    int x = 5;\n",
    "}\n",
    "\n",
    "class B extends A {\n",
    "    int x = 10;\n",
    "    void print() {\n",
    "        System.out.println(super.x);\n",
    "    }\n",
    "}\n",
    "\n",
    "public class Test {\n",
    "    public static void main(String[] args) {\n",
    "        B obj = new B();\n",
    "        obj.print();\n",
    "    }\n",
    "}"
   ]
  },
  {
   "cell_type": "markdown",
   "metadata": {},
   "source": [
    "## 💻 Section D: Programming Tasks\n",
    "\n",
    "1. Write a Java program to check whether a number is prime or not.\n",
    "2. Create a class `Student` with attributes: name, roll number, and marks. Add a method to display details.\n",
    "3. Write a Java method to reverse a string without using library functions.\n",
    "4. Create an interface `Vehicle` with a method `drive()`. Implement it in a class `Car`.\n",
    "5. Write a Java program to demonstrate method overloading."
   ]
  },
  {
   "cell_type": "markdown",
   "metadata": {},
   "source": [
    "## ✅ Answer Key\n",
    "\n",
    "**MCQs:**  \n",
    "1 → b) `Boolean`  \n",
    "2 → b) `main()`  \n",
    "3 → c) `false`  \n",
    "4 → a) `try-catch`  \n",
    "5 → c) `friendly`"
   ]
  }
 ],
 "metadata": {
  "kernelspec": {
   "display_name": "Java",
   "language": "java",
   "name": "java"
  },
  "language_info": {
   "name": "java"
  }
 },
 "nbformat": 4,
 "nbformat_minor": 5
}
