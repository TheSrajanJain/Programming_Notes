{
 "cells": [
  {
   "cell_type": "markdown",
   "metadata": {},
   "source": [
    "# Java Worksheet 4 – OOP Basics\n",
    "### Topics: Classes, Objects, Methods, Constructors"
   ]
  },
  {
   "cell_type": "code",
   "execution_count": null,
   "metadata": {},
   "outputs": [],
   "source": [
    "// CLASS AND OBJECT\n",
    "class Car {\n",
    "    String color;\n",
    "    int speed;\n",
    "\n",
    "    void drive() {\n",
    "        System.out.println(\"Car is driving at speed: \" + speed);\n",
    "    }\n",
    "}\n",
    "\n",
    "Car myCar = new Car();\n",
    "myCar.color = \"Red\";\n",
    "myCar.speed = 100;\n",
    "myCar.drive();"
   ]
  },
  {
   "cell_type": "code",
   "execution_count": null,
   "metadata": {},
   "outputs": [],
   "source": [
    "// CONSTRUCTOR\n",
    "class Student {\n",
    "    String name;\n",
    "    int age;\n",
    "\n",
    "    Student(String n, int a) {\n",
    "        name = n;\n",
    "        age = a;\n",
    "    }\n",
    "\n",
    "    void display() {\n",
    "        System.out.println(name + \" is \" + age + \" years old.\");\n",
    "    }\n",
    "}\n",
    "\n",
    "Student s1 = new Student(\"Amit\", 20);\n",
    "s1.display();"
   ]
  }
 ]
}
