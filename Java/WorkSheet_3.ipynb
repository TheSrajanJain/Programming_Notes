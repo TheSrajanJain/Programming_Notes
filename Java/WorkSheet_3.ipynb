{
 "cells": [
  {
   "cell_type": "markdown",
   "metadata": {},
   "source": [
    "# Java Worksheet 3 – Arrays and Strings"
   ]
  },
  {
   "cell_type": "code",
   "execution_count": null,
   "metadata": {},
   "outputs": [],
   "source": [
    "// SINGLE-DIMENSIONAL ARRAY\n",
    "int[] arr = {1, 2, 3, 4, 5};\n",
    "for (int i = 0; i < arr.length; i++) {\n",
    "    System.out.print(arr[i] + \" \");\n",
    "}"
   ]
  },
  {
   "cell_type": "code",
   "execution_count": null,
   "metadata": {},
   "outputs": [],
   "source": [
    "// MULTI-DIMENSIONAL ARRAY\n",
    "int[][] matrix = {\n",
    "  {1, 2},\n",
    "  {3, 4}\n",
    "};\n",
    "for (int i = 0; i < 2; i++) {\n",
    "    for (int j = 0; j < 2; j++) {\n",
    "        System.out.print(matrix[i][j] + \" \");\n",
    "    }\n",
    "    System.out.println();\n",
    "}"
   ]
  },
  {
   "cell_type": "code",
   "execution_count": null,
   "metadata": {},
   "outputs": [],
   "source": [
    "// STRING MANIPULATION\n",
    "String str = \"Java Programming\";\n",
    "System.out.println(str.toUpperCase());\n",
    "System.out.println(str.substring(5));\n",
    "System.out.println(str.charAt(2));"
   ]
  }
 ]
}
