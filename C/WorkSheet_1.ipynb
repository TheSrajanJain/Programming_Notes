{
 "cells": [
  {
   "cell_type": "markdown",
   "metadata": {},
   "source": [
    "# 🧠 C Programming Worksheet 1\n",
    "### By Srajan Jain\n",
    "\n",
    "This worksheet will help you revise important basics of C programming.\n",
    "Let's begin!"
   ]
  },
  {
   "cell_type": "markdown",
   "metadata": {},
   "source": [
    "## 1️⃣ Basic Structure of C Program\n",
    "```c\n",
    "#include <stdio.h>\n",
    "\n",
    "int main() {\n",
    "    printf(\"Hello, World!\\n\");\n",
    "    return 0;\n",
    "}\n",
    "```\n",
    "**Q1:** What does `#include <stdio.h>` mean?\n",
    "**Q2:** What will be the output of the above program?"
   ]
  },
  {
   "cell_type": "markdown",
   "metadata": {},
   "source": [
    "## 2️⃣ Variables & Data Types\n",
    "```c\n",
    "#include <stdio.h>\n",
    "int main() {\n",
    "    int age = 16;\n",
    "    float pi = 3.14;\n",
    "    char grade = 'A';\n",
    "    \n",
    "    printf(\"Age: %d\\n\", age);\n",
    "    printf(\"PI: %.2f\\n\", pi);\n",
    "    printf(\"Grade: %c\\n\", grade);\n",
    "    return 0;\n",
    "}\n",
    "```\n",
    "**Q3:** What is the format specifier for `float`?\n",
    "**Q4:** What is the output of this program?"
   ]
  },
  {
   "cell_type": "markdown",
   "metadata": {},
   "source": [
    "## 3️⃣ Input from User\n",
    "```c\n",
    "#include <stdio.h>\n",
    "int main() {\n",
    "    int number;\n",
    "    printf(\"Enter a number: \");\n",
    "    scanf(\"%d\", &number);\n",
    "    printf(\"You entered: %d\\n\", number);\n",
    "    return 0;\n",
    "}\n",
    "```\n",
    "**Q5:** What is the role of `&` in `scanf()`?\n",
    "**Q6:** Can you take input for float and character as well?"
   ]
  },
  {
   "cell_type": "markdown",
   "metadata": {},
   "source": [
    "## 4️⃣ Conditional Statements\n",
    "```c\n",
    "#include <stdio.h>\n",
    "int main() {\n",
    "    int num = 10;\n",
    "    if (num > 0) {\n",
    "        printf(\"Positive number\\n\");\n",
    "    } else {\n",
    "        printf(\"Negative number\\n\");\n",
    "    }\n",
    "    return 0;\n",
    "}\n",
    "```\n",
    "**Q7:** What if `num = -5`?\n",
    "**Q8:** Write a program to check whether a number is even or odd."
   ]
  },
  {
   "cell_type": "markdown",
   "metadata": {},
   "source": [
    "## 5️⃣ Loops in C\n",
    "```c\n",
    "#include <stdio.h>\n",
    "int main() {\n",
    "    for (int i = 1; i <= 5; i++) {\n",
    "        printf(\"%d\\n\", i);\n",
    "    }\n",
    "    return 0;\n",
    "}\n",
    "```\n",
    "**Q9:** What will be the output?\n",
    "**Q10:** Rewrite the same logic using a `while` loop."
   ]
  },
  {
   "cell_type": "markdown",
   "metadata": {},
   "source": [
    "## 6️⃣ Mini Practice Questions\n",
    "1. Write a program to calculate the sum of first 10 natural numbers.\n",
    "2. Write a program to print multiplication table of a number.\n",
    "3. Write a program to find factorial of a number using loop."
   ]
  },
  {
   "cell_type": "markdown",
   "metadata": {},
   "source": [
    "---\n",
    "🎯 Great job completing this worksheet!\n",
    "\n",
    "Next worksheet: Functions, Arrays, Strings, and Pointers 🔜"
   ]
  }
 ],
 "metadata": {
  "kernelspec": {
   "display_name": "C",
   "language": "c",
   "name": "c"
  },
  "language_info": {
   "name": "c"
  }
 },
 "nbformat": 4,
 "nbformat_minor": 2
}
